{
 "cells": [
  {
   "cell_type": "markdown",
   "metadata": {},
   "source": [
    "# Challenge 2"
   ]
  },
  {
   "cell_type": "markdown",
   "metadata": {},
   "source": [
    "## 1) Times after noon but before midnight, reported in 24 hours or \"military\" format \n",
    "\n",
    "### Times after noon and before midnight, so the numbes before comma should be larger than 12 and smaller than 24.  Meanwhile, the number for minute should be in the range of 0-60."
   ]
  },
  {
   "cell_type": "code",
   "execution_count": 12,
   "metadata": {},
   "outputs": [
    {
     "data": {
      "text/plain": [
       "['15:30']"
      ]
     },
     "execution_count": 12,
     "metadata": {},
     "output_type": "execute_result"
    }
   ],
   "source": [
    "import re as re\n",
    "reg1=re.compile('([1][2-9]\\:([0-5][0-9]|[6][0]))|([2][0-3]\\:([0-5][0-9]|[6][0]))')\n",
    "testset1=['15:30','24:00']\n",
    "filter(reg1.match,testset1)"
   ]
  },
  {
   "cell_type": "markdown",
   "metadata": {},
   "source": [
    "## 2) Genus species names \n",
    "\n",
    "### First letter should be capitalized, then it comes with the \".\", then six letters in the lower case. "
   ]
  },
  {
   "cell_type": "code",
   "execution_count": 13,
   "metadata": {},
   "outputs": [
    {
     "data": {
      "text/plain": [
       "['H.sapien']"
      ]
     },
     "execution_count": 13,
     "metadata": {},
     "output_type": "execute_result"
    }
   ],
   "source": [
    "reg2=re.compile('[A-Z]{1}\\.[a-z]{6}')\n",
    "testset2=['H.sapien','h.sapien']\n",
    "filter(reg2.match,testset2)"
   ]
  },
  {
   "cell_type": "markdown",
   "metadata": {},
   "source": [
    "## 3) Social security numbers\n",
    "\n",
    "### Three numbers, then \"-\", then two numbers, then \"-\", then four numbers "
   ]
  },
  {
   "cell_type": "code",
   "execution_count": 14,
   "metadata": {},
   "outputs": [
    {
     "data": {
      "text/plain": [
       "['389-05-4771']"
      ]
     },
     "execution_count": 14,
     "metadata": {},
     "output_type": "execute_result"
    }
   ],
   "source": [
    "reg3=re.compile('[0-9]{3}\\-[0-9]{2}\\-[0-9]{4}')\n",
    "testset3=['389-05-4771','38-051-41']\n",
    "filter(reg3.match,testset3)"
   ]
  }
 ],
 "metadata": {
  "kernelspec": {
   "display_name": "Python 2",
   "language": "python",
   "name": "python2"
  },
  "language_info": {
   "codemirror_mode": {
    "name": "ipython",
    "version": 2
   },
   "file_extension": ".py",
   "mimetype": "text/x-python",
   "name": "python",
   "nbconvert_exporter": "python",
   "pygments_lexer": "ipython2",
   "version": "2.7.13"
  }
 },
 "nbformat": 4,
 "nbformat_minor": 2
}
