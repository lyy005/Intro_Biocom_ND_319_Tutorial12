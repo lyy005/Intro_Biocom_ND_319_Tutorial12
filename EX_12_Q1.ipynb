{
 "cells": [
  {
   "cell_type": "markdown",
   "metadata": {},
   "source": [
    "# Performing likelihood ratio test to find out if there is difference in weight when chicken is fed soybean vs. sunflower"
   ]
  },
  {
   "cell_type": "markdown",
   "metadata": {},
   "source": [
    "## The dataset in “chickwts.txt” has columns as chick **weights** and **feed** type"
   ]
  },
  {
   "cell_type": "code",
   "execution_count": 24,
   "metadata": {},
   "outputs": [],
   "source": [
    "import numpy\n",
    "import os\n",
    "import pandas\n",
    "import plotnine\n",
    "from plotnine import *\n",
    "import scipy\n",
    "from scipy.optimize import minimize\n",
    "from scipy.stats import norm\n",
    "from scipy.stats import chi2\n",
    "from plotnine import *\n",
    "os.listdir('.')\n",
    "os.chdir('/Users/sampathkumarbalaji/EX_12/Intro_Biocom_ND_319_Tutorial12')\n",
    "chick_weights = pandas.read_csv(\"chickwts.txt\")\n"
   ]
  },
  {
   "cell_type": "markdown",
   "metadata": {},
   "source": [
    "### And the dataset with columns being **weight** and **feed** looks like:"
   ]
  },
  {
   "cell_type": "code",
   "execution_count": 4,
   "metadata": {},
   "outputs": [
    {
     "name": "stdout",
     "output_type": "stream",
     "text": [
      "    weight       feed\n",
      "0      179  horsebean\n",
      "1      160  horsebean\n",
      "2      136  horsebean\n",
      "3      227  horsebean\n",
      "4      217  horsebean\n",
      "5      168  horsebean\n",
      "6      108  horsebean\n",
      "7      124  horsebean\n",
      "8      143  horsebean\n",
      "9      140  horsebean\n",
      "10     309    linseed\n",
      "11     229    linseed\n",
      "12     181    linseed\n",
      "13     141    linseed\n",
      "14     260    linseed\n",
      "15     203    linseed\n",
      "16     148    linseed\n",
      "17     169    linseed\n",
      "18     213    linseed\n",
      "19     257    linseed\n",
      "20     244    linseed\n",
      "21     271    linseed\n",
      "22     243    soybean\n",
      "23     230    soybean\n",
      "24     248    soybean\n",
      "25     327    soybean\n",
      "26     329    soybean\n",
      "27     250    soybean\n",
      "28     193    soybean\n",
      "29     271    soybean\n",
      "..     ...        ...\n",
      "41     226  sunflower\n",
      "42     320  sunflower\n",
      "43     295  sunflower\n",
      "44     334  sunflower\n",
      "45     322  sunflower\n",
      "46     297  sunflower\n",
      "47     318  sunflower\n",
      "48     325   meatmeal\n",
      "49     257   meatmeal\n",
      "50     303   meatmeal\n",
      "51     315   meatmeal\n",
      "52     380   meatmeal\n",
      "53     153   meatmeal\n",
      "54     263   meatmeal\n",
      "55     242   meatmeal\n",
      "56     206   meatmeal\n",
      "57     344   meatmeal\n",
      "58     258   meatmeal\n",
      "59     368     casein\n",
      "60     390     casein\n",
      "61     379     casein\n",
      "62     260     casein\n",
      "63     404     casein\n",
      "64     318     casein\n",
      "65     352     casein\n",
      "66     359     casein\n",
      "67     216     casein\n",
      "68     222     casein\n",
      "69     283     casein\n",
      "70     332     casein\n",
      "\n",
      "[71 rows x 2 columns]\n"
     ]
    }
   ],
   "source": [
    "print (chick_weights)"
   ]
  },
  {
   "cell_type": "markdown",
   "metadata": {},
   "source": [
    "### The plot looks like:"
   ]
  },
  {
   "cell_type": "code",
   "execution_count": 22,
   "metadata": {},
   "outputs": [
    {
     "data": {
      "image/png": "[encoded data removed]",
      "text/plain": [
       "<matplotlib.figure.Figure at 0x1c16d047f0>"
      ]
     },
     "metadata": {},
     "output_type": "display_data"
    },
    {
     "data": {
      "text/plain": [
       "<ggplot: (7539846264)>"
      ]
     },
     "execution_count": 22,
     "metadata": {},
     "output_type": "execute_result"
    }
   ],
   "source": [
    "ggplot(chick_weights,aes(x=\"weight\",y=\"feed\"))+geom_point(aes(x=\"weight\",y=\"feed\"))"
   ]
  },
  {
   "cell_type": "markdown",
   "metadata": {},
   "source": [
    "## The question is to find if there is difference in weight of the chicken when they are fed soybean vs. sunflower feed. Null Hypothesis:  *\"The weight remains the same (no difference)\"*, Alternate hypothesis: *\"Yes the weights differ based off the feed type\"*."
   ]
  },
  {
   "cell_type": "code",
   "execution_count": 32,
   "metadata": {},
   "outputs": [
    {
     "name": "stderr",
     "output_type": "stream",
     "text": [
      "/Users/sampathkumarbalaji/anaconda/lib/python3.6/site-packages/ipykernel_launcher.py:2: SettingWithCopyWarning: \n",
      "A value is trying to be set on a copy of a slice from a DataFrame.\n",
      "Try using .loc[row_indexer,col_indexer] = value instead\n",
      "\n",
      "See the caveats in the documentation: http://pandas.pydata.org/pandas-docs/stable/indexing.html#indexing-view-versus-copy\n",
      "  \n"
     ]
    }
   ],
   "source": [
    "Sun_Soy_feed_DS = chick_weights.query('feed == \"sunflower\" or feed == \"soybean\"')\n",
    "Sun_Soy_feed_DS['x'] = [0 if feedtype == 'sunflower' else 1 for feedtype in Sun_Soy_feed_DS.feed]\n"
   ]
  },
  {
   "cell_type": "markdown",
   "metadata": {},
   "source": [
    "## Defining the null and alternate hypotheses functions"
   ]
  },
  {
   "cell_type": "code",
   "execution_count": 25,
   "metadata": {
    "collapsed": true
   },
   "outputs": [],
   "source": [
    "def null_hyp(p,obs):\n",
    "    B0=p[0]\n",
    "    sigma=p[1]\n",
    "    \n",
    "    expected=B0\n",
    "    nll= -1*norm(expected,sigma).logpdf(obs.weight).sum()\n",
    "    return nll\n",
    "\n",
    "def alt_hyp(p,obs):\n",
    "    B0=p[0]\n",
    "    B1=p[1]\n",
    "    sigma=p[2]\n",
    "    \n",
    "    expected=B0+B1*obs.x\n",
    "    nll=-1*norm(expected,sigma).logpdf(obs.weight).sum()\n",
    "    return nll\n"
   ]
  },
  {
   "cell_type": "code",
   "execution_count": 27,
   "metadata": {},
   "outputs": [],
   "source": [
    "initialGuess_null_hyp=numpy.array([1,1])\n",
    "initialGuess_alt_hyp=numpy.array([1,1,1])\n"
   ]
  },
  {
   "cell_type": "markdown",
   "metadata": {},
   "source": [
    "## Minimize functions for null and alt hyp"
   ]
  },
  {
   "cell_type": "code",
   "execution_count": 28,
   "metadata": {},
   "outputs": [
    {
     "name": "stdout",
     "output_type": "stream",
     "text": [
      "Optimization terminated successfully.\n",
      "         Current function value: 145.240592\n",
      "         Iterations: 85\n",
      "         Function evaluations: 162\n",
      "Optimization terminated successfully.\n",
      "         Current function value: 138.469162\n",
      "         Iterations: 200\n",
      "         Function evaluations: 363\n"
     ]
    }
   ],
   "source": [
    "fitnull=minimize(null_hyp,initialGuess_null_hyp,method=\"Nelder-Mead\",options={'disp': True},args=Sun_Soy_feed_DS)\n",
    "fitalt=minimize(alt_hyp,initialGuess_alt_hyp,method=\"Nelder-Mead\",options={'disp': True},args=Sun_Soy_feed_DS)"
   ]
  },
  {
   "cell_type": "markdown",
   "metadata": {},
   "source": [
    "## Chi squared calculations and finding the p-value:"
   ]
  },
  {
   "cell_type": "code",
   "execution_count": 29,
   "metadata": {},
   "outputs": [
    {
     "data": {
      "text/plain": [
       "0.00023317672869549444"
      ]
     },
     "execution_count": 29,
     "metadata": {},
     "output_type": "execute_result"
    }
   ],
   "source": [
    "1-scipy.stats.chi2.cdf(x=-2*(fitalt.fun-fitnull.fun),df=1)"
   ]
  },
  {
   "cell_type": "markdown",
   "metadata": {},
   "source": [
    "Since the p-value is small (< 0.05), it means that the null hypothesis of there is no difference in weight gained based off the feedtype can be rejected."
   ]
  }
 ],
 "metadata": {
  "celltoolbar": "Attachments",
  "kernelspec": {
   "display_name": "Python 3",
   "language": "python",
   "name": "python3"
  },
  "language_info": {
   "codemirror_mode": {
    "name": "ipython",
    "version": 3
   },
   "file_extension": ".py",
   "mimetype": "text/x-python",
   "name": "python",
   "nbconvert_exporter": "python",
   "pygments_lexer": "ipython3",
   "version": "3.6.1"
  }
 },
 "nbformat": 4,
 "nbformat_minor": 2
}
