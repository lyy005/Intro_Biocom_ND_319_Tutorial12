{
 "cells": [
  {
   "cell_type": "markdown",
   "metadata": {
    "collapsed": true
   },
   "source": [
    "## The Dataset\n",
    "* Column 1 is weight\n",
    "* Column 2 is feed type\n",
    "\n",
    "## The data looks like this:"
   ]
  },
  {
   "cell_type": "code",
   "execution_count": 3,
   "metadata": {},
   "outputs": [
    {
     "data": {
      "image/png": "[encoded data removed]",
      "text/plain": [
       "<matplotlib.figure.Figure at 0xf673d68>"
      ]
     },
     "metadata": {},
     "output_type": "display_data"
    },
    {
     "name": "stdout",
     "output_type": "stream",
     "text": [
      "<ggplot: (16069457)>\n"
     ]
    }
   ],
   "source": [
    "import pandas\n",
    "chicks = pandas.read_csv(\"chickwts.txt\")\n",
    "import plotnine\n",
    "from plotnine import *\n",
    "p=(ggplot(data=chicks) +\n",
    "    aes(x=\"feed\",y=\"weight\") +\n",
    "    geom_point(color=\"blue\") +\n",
    "    theme_classic())\n",
    "print p"
   ]
  },
  {
   "cell_type": "markdown",
   "metadata": {},
   "source": [
    "## Is chick weight different when they're fed soybean feed vs sunflower feed?\n",
    "### Hypotheses:\n",
    "* Null hypothesis: There's no difference"
   ]
  },
  {
   "cell_type": "code",
   "execution_count": 36,
   "metadata": {
    "collapsed": true
   },
   "outputs": [],
   "source": [
    "def null(p,obs):\n",
    "    B0=p[0]\n",
    "    sigma=p[1]\n",
    "    \n",
    "    expected=B0\n",
    "    nll= -1*scipy.stats.norm(expected,sigma).logpdf(obs.weight).sum()\n",
    "    return nll"
   ]
  },
  {
   "cell_type": "markdown",
   "metadata": {},
   "source": [
    "* Alternate hypothesis:"
   ]
  },
  {
   "cell_type": "code",
   "execution_count": 37,
   "metadata": {
    "collapsed": true
   },
   "outputs": [],
   "source": [
    "def alter(p,obs):\n",
    "    B0=p[0]\n",
    "    B1=p[1]\n",
    "    sigma=p[2]\n",
    "    \n",
    "    expected=B0+B1*obs.x # error?\n",
    "    nll= -1*scipy.stats.norm(expected,sigma).logpdf(obs.weight).sum()\n",
    "    return nll"
   ]
  },
  {
   "cell_type": "markdown",
   "metadata": {},
   "source": [
    "### Then we have to subset the data to only include chicks fed soybeans or sunflowers:\n",
    "#### Note: Must change feed names to integers so that numpy can understand\n",
    "* soybean=0\n",
    "* sunflower=1"
   ]
  },
  {
   "cell_type": "code",
   "execution_count": 38,
   "metadata": {},
   "outputs": [
    {
     "name": "stderr",
     "output_type": "stream",
     "text": [
      "C:\\Users\\NicCage\\Anaconda2\\lib\\site-packages\\ipykernel_launcher.py:5: SettingWithCopyWarning: \n",
      "A value is trying to be set on a copy of a slice from a DataFrame.\n",
      "Try using .loc[row_indexer,col_indexer] = value instead\n",
      "\n",
      "See the caveats in the documentation: http://pandas.pydata.org/pandas-docs/stable/indexing.html#indexing-view-versus-copy\n",
      "  \"\"\"\n"
     ]
    }
   ],
   "source": [
    "chicks = pandas.read_csv(\"chickwts.txt\")\n",
    "\n",
    "#fixed subset\n",
    "subset1 = chicks.loc[chicks['feed'].isin(['sunflower','soybean'])]\n",
    "subset1['x'] = [0 if ele  == \"soybean\" else 1 for ele in subset1[\"feed\"]]\n",
    "\n"
   ]
  },
  {
   "cell_type": "markdown",
   "metadata": {},
   "source": [
    "## Let's test it using a likelihood ratio test!\n",
    "#### First import your packages"
   ]
  },
  {
   "cell_type": "code",
   "execution_count": 39,
   "metadata": {
    "collapsed": true
   },
   "outputs": [],
   "source": [
    "import numpy\n",
    "import scipy\n",
    "from scipy import optimize\n",
    "from scipy import stats\n",
    "from scipy.stats import norm\n"
   ]
  },
  {
   "cell_type": "markdown",
   "metadata": {},
   "source": [
    "#### The fit"
   ]
  },
  {
   "cell_type": "code",
   "execution_count": 40,
   "metadata": {},
   "outputs": [
    {
     "name": "stdout",
     "output_type": "stream",
     "text": [
      "Optimization terminated successfully.\n",
      "         Current function value: 145.240592\n",
      "         Iterations: 85\n",
      "         Function evaluations: 162\n",
      "Optimization terminated successfully.\n",
      "         Current function value: 138.469162\n",
      "         Iterations: 200\n",
      "         Function evaluations: 363\n",
      " final_simplex: (array([[ 284.49999051,   64.53691755],\n",
      "       [ 284.49994818,   64.53700563],\n",
      "       [ 284.50008783,   64.53694034]]), array([ 145.2405921,  145.2405921,  145.2405921]))\n",
      "           fun: 145.24059209701645\n",
      "       message: 'Optimization terminated successfully.'\n",
      "          nfev: 162\n",
      "           nit: 85\n",
      "        status: 0\n",
      "       success: True\n",
      "             x: array([ 284.49999051,   64.53691755])\n",
      " final_simplex: (array([[ 246.42855057,   82.48813575,   49.73948886],\n",
      "       [ 246.42852198,   82.48806896,   49.73943687],\n",
      "       [ 246.42847238,   82.48817448,   49.73945349],\n",
      "       [ 246.42854646,   82.48810237,   49.73950669]]), array([ 138.46916182,  138.46916182,  138.46916182,  138.46916182]))\n",
      "           fun: 138.4691618247918\n",
      "       message: 'Optimization terminated successfully.'\n",
      "          nfev: 363\n",
      "           nit: 200\n",
      "        status: 0\n",
      "       success: True\n",
      "             x: array([ 246.42855057,   82.48813575,   49.73948886])\n"
     ]
    }
   ],
   "source": [
    "initialGuess=numpy.array([1,1])\n",
    "alterGuess=numpy.array([1,1,1])\n",
    "fitNull=scipy.optimize.minimize(null,initialGuess,method=\"Nelder-Mead\",options={'disp':True},args=subset1)\n",
    "fitAlter=scipy.optimize.minimize(alter,alterGuess,method=\"Nelder-Mead\",options={'disp':True},args=subset1)\n",
    "print(fitNull)\n",
    "print(fitAlter)"
   ]
  },
  {
   "cell_type": "markdown",
   "metadata": {
    "collapsed": true
   },
   "source": [
    "#### The results"
   ]
  },
  {
   "cell_type": "code",
   "execution_count": 43,
   "metadata": {},
   "outputs": [
    {
     "name": "stdout",
     "output_type": "stream",
     "text": [
      "result\n",
      "0.000233176728695\n"
     ]
    }
   ],
   "source": [
    "D=2*(fitNull.fun-fitAlter.fun)\n",
    "print \"result\"\n",
    "print 1-scipy.stats.chi2.cdf(x=D,df=1)"
   ]
  },
  {
   "cell_type": "markdown",
   "metadata": {
    "collapsed": true
   },
   "source": [
    "# sunflower seed sig increases weight!"
   ]
  },
  {
   "cell_type": "code",
   "execution_count": null,
   "metadata": {
    "collapsed": true
   },
   "outputs": [],
   "source": []
  }
 ],
 "metadata": {
  "kernelspec": {
   "display_name": "Python 3",
   "language": "python",
   "name": "python3"
  },
  "language_info": {
   "codemirror_mode": {
    "name": "ipython",
    "version": 3
   },
   "file_extension": ".py",
   "mimetype": "text/x-python",
   "name": "python",
   "nbconvert_exporter": "python",
   "pygments_lexer": "ipython3",
   "version": "3.6.2"
  }
 },
 "nbformat": 4,
 "nbformat_minor": 1
}
