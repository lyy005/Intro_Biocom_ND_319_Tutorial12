{
 "cells": [
  {
   "cell_type": "markdown",
   "metadata": {},
   "source": [
    "# Using Regular Expressions to Match Patterns\n",
    "\n",
    "Matching patterns using regular expressions is useful when you want to look for strings in a file with a lot of data. In this exercise we will look at 3 scenarios and use regular expressions to match patterns. \n",
    "    \n",
    "In order to use regular expressions in Python you first need to add the regular expression package(re). Then, for each scenario, you will need to simulate some data, build the necessary regular expression(s) "
   ]
  },
  {
   "cell_type": "markdown",
   "metadata": {},
   "source": [
    "## Scenario 1: Times\n",
    "\n",
    "This pattern will match times after noon, but before midnight when reported in 24-hour or \"military\" format(e.g. 15:30). The following regular expression(s) work because it makes it so the only digits you capture are those that start with a 1 (i.e. 12:xx) or 2 (i.e. 20:xx). The print then combines the 2 filters so that you can see all values after noon/before midnight."
   ]
  },
  {
   "cell_type": "code",
   "execution_count": 1,
   "metadata": {},
   "outputs": [
    {
     "name": "stdout",
     "output_type": "stream",
     "text": [
      "['12:30', '13:30', '14:30', '15:30', '16:30', '17:30', '18:30', '19:30', '20:30', '21:30', '22:30', '23:30']\n"
     ]
    }
   ],
   "source": [
    "#Import packages needed\n",
    "import re\n",
    "#Simulate Data\n",
    "times=['00:30','o1:30','02:30','03:30','04:30','05:30','06:30','07:30','08:30','09:30','10:30','11:30','12:30','13:30','14:30','15:30','16:30','17:30','18:30','19:30','20:30','21:30','22:30','23:30']\n",
    "#Build expressions\n",
    "regex1=re.compile('[1][2-9]:\\d{2}')\n",
    "regex2=re.compile('[2][0-9]:\\d{2}')\n",
    "#Filter\n",
    "print(filter(regex1.match,times)+filter(regex2.match,times))"
   ]
  },
  {
   "cell_type": "markdown",
   "metadata": {},
   "source": [
    "## Scenario 2: Genus Species Names\n",
    "\n",
    "This pattern will match genus species names that are expressed in the format G. species(e.g. H. sapiens). This code will look for a capital letter(A-Z), followed by a period, then a space and finally 2-25 lowercase letters. As we use the .match function, it will look for instances where the string starts with the specified parameters."
   ]
  },
  {
   "cell_type": "code",
   "execution_count": 4,
   "metadata": {},
   "outputs": [
    {
     "name": "stdout",
     "output_type": "stream",
     "text": [
      "['M. avium', 'T. cruzi', 'B. megaterium', 'T. rex', 'S. pyogenes']\n"
     ]
    }
   ],
   "source": [
    "#Simulate Data\n",
    "names=['M. avium','Bubbles','T. cruzi','J. F. Kennedy','B. megaterium','Kei-ichi Uchiya','mumbo.jumbo','T. rex', 'S. pyogenes','h. sapiens']\n",
    "#Build Expression\n",
    "regex=re.compile('[A-Z]\\.\\s[a-z]{2,25}')\n",
    "#Filter\n",
    "print(filter(regex.match,names))"
   ]
  },
  {
   "cell_type": "markdown",
   "metadata": {},
   "source": [
    "As you can see, this expression works because it ignored items like 'Bubbles', 'J. F. Kennedy, etc. This is because they did not fit the required format. In the instance of 'Bubbles' it was ignored because it didn't have a period or space following the first letter.In the 'J. F. Kennedy' example it was ignored because it failed the second part of the expression which required a lowercase letter/word following the first period and space."
   ]
  },
  {
   "cell_type": "markdown",
   "metadata": {},
   "source": [
    "## Scenario 3: Social Security Numbers\n",
    "\n",
    "This pattern will match social security numbers in the proper format(e.g. 389-05-4771). This code will look for 3 digits followed by a dash, then 2 digits followed by a dash and finally 4 digits."
   ]
  },
  {
   "cell_type": "code",
   "execution_count": 5,
   "metadata": {},
   "outputs": [
    {
     "name": "stdout",
     "output_type": "stream",
     "text": [
      "['389-05-4771', '123-45-6789', '876-54-3210', '111-22-3333', '888-77-6666']\n"
     ]
    }
   ],
   "source": [
    "#Simulate Data\n",
    "data=['389-05-4771','123-45-6789','McDougal Littell','876-54-3210','111-22-3333','Goofy','888-77-6666','22-333-44']\n",
    "#Build Expression\n",
    "regex=re.compile('\\d{3}\\-\\d{2}\\-\\d{4}')\n",
    "#Filter\n",
    "print(filter(regex.match,data))"
   ]
  },
  {
   "cell_type": "markdown",
   "metadata": {},
   "source": [
    "This regular expression worked because it ignored data like 'Goofy' and '22-333-44'. Naturally, Goofy was gnored because it didn't start with a digit and 22-333-44 was ignored because it didn't start with 3 digits."
   ]
  }
 ],
 "metadata": {
  "kernelspec": {
   "display_name": "Python 2",
   "language": "python",
   "name": "python2"
  },
  "language_info": {
   "codemirror_mode": {
    "name": "ipython",
    "version": 2
   },
   "file_extension": ".py",
   "mimetype": "text/x-python",
   "name": "python",
   "nbconvert_exporter": "python",
   "pygments_lexer": "ipython2",
   "version": "2.7.13"
  }
 },
 "nbformat": 4,
 "nbformat_minor": 2
}
