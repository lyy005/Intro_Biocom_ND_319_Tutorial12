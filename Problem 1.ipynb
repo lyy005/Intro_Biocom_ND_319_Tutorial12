{
 "cells": [
  {
   "cell_type": "markdown",
   "metadata": {},
   "source": [
    "# Challenge 1"
   ]
  },
  {
   "cell_type": "markdown",
   "metadata": {},
   "source": [
    "## 2) Plot the data "
   ]
  },
  {
   "cell_type": "code",
   "execution_count": 2,
   "metadata": {
    "collapsed": true
   },
   "outputs": [],
   "source": [
    "import pandas as pd\n",
    "data=pd.read_table('chickwts.txt',sep=',')"
   ]
  },
  {
   "cell_type": "code",
   "execution_count": 6,
   "metadata": {},
   "outputs": [
    {
     "data": {
      "text/plain": [
       "<matplotlib.axes._subplots.AxesSubplot at 0x115b369d0>"
      ]
     },
     "execution_count": 6,
     "metadata": {},
     "output_type": "execute_result"
    }
   ],
   "source": [
    "data.boxplot(by='feed',column='weight',grid=False,figsize=(15,15))\n",
    "# I am not sure why somehow there is no figure in Jupyter but I did get a barplot in python. "
   ]
  },
  {
   "cell_type": "markdown",
   "metadata": {
    "collapsed": true
   },
   "source": [
    "## 3) A hypothesis test\n",
    "\n",
    "### Null hypothesis: the weight of chick fed by soybean has no significant difference with the weight of chick fed by sunflower\n",
    "### Alternative hypothesis: the weight of chick fed by soybean has significant difference with the weight of chick fed by sunflower"
   ]
  },
  {
   "cell_type": "markdown",
   "metadata": {},
   "source": [
    "## 4) Hypothesis test"
   ]
  },
  {
   "cell_type": "code",
   "execution_count": 31,
   "metadata": {},
   "outputs": [],
   "source": [
    "le=LabelEncoder()\n",
    "le.fit(data['feed'])\n",
    "data['Index']=le.transform(data['feed'])\n",
    "x=data[(data['feed']=='soybean')|(data['feed']=='sunflower')]['Index']\n",
    "y=data[(data['feed']=='soybean')|(data['feed']=='sunflower')]['weight']"
   ]
  },
  {
   "cell_type": "code",
   "execution_count": 28,
   "metadata": {},
   "outputs": [
    {
     "name": "stdout",
     "output_type": "stream",
     "text": [
      "Optimization terminated successfully.\n",
      "         Current function value: 145.240592\n",
      "         Iterations: 85\n",
      "         Function evaluations: 162\n"
     ]
    },
    {
     "data": {
      "text/plain": [
       "array([ 284.49999051,   64.53691755])"
      ]
     },
     "execution_count": 28,
     "metadata": {},
     "output_type": "execute_result"
    }
   ],
   "source": [
    "import numpy as np\n",
    "from scipy.optimize import minimize\n",
    "from scipy.stats import norm\n",
    "\n",
    "# null hypothesis\n",
    "def null(p,obs):\n",
    "    B0=p[0]\n",
    "    sigma=p[1]\n",
    "    \n",
    "    expected=B0\n",
    "    nll=-1*norm(expected,sigma).logpdf(obs).sum()\n",
    "    return nll\n",
    "\n",
    "initialGuess1=np.array([1,1])\n",
    "fitNull=minimize(null,initialGuess1,method=\"Nelder-Mead\",options={'disp':True},args=(y))\n",
    "fitNull.x"
   ]
  },
  {
   "cell_type": "code",
   "execution_count": 29,
   "metadata": {},
   "outputs": [
    {
     "name": "stdout",
     "output_type": "stream",
     "text": [
      "Optimization terminated successfully.\n",
      "         Current function value: 138.469162\n",
      "         Iterations: 194\n",
      "         Function evaluations: 360\n"
     ]
    },
    {
     "data": {
      "text/plain": [
       "array([-83.52384926,  82.48810462,  49.73945446])"
      ]
     },
     "execution_count": 29,
     "metadata": {},
     "output_type": "execute_result"
    }
   ],
   "source": [
    "# alternative hypothesis\n",
    "def alter(p,obs1,obs2):\n",
    "    B0=p[0]\n",
    "    B1=p[1]\n",
    "    sigma=p[2]\n",
    "    \n",
    "    expected=B0+B1*obs1\n",
    "    nll=-1*norm(expected,sigma).logpdf(obs2).sum()\n",
    "    return nll\n",
    "\n",
    "initialGuess1=np.array([1,1,1])\n",
    "fitalter=minimize(alter,initialGuess1,method=\"Nelder-Mead\",options={'disp':True},args=(x,y))\n",
    "fitalter.x"
   ]
  },
  {
   "cell_type": "code",
   "execution_count": 30,
   "metadata": {},
   "outputs": [
    {
     "data": {
      "text/plain": [
       "0.0002331767286918307"
      ]
     },
     "execution_count": 30,
     "metadata": {},
     "output_type": "execute_result"
    }
   ],
   "source": [
    "from scipy.stats import chi2\n",
    "D=2*(fitNull.fun-fitalter.fun)\n",
    "1-chi2.cdf(x=D,df=1) "
   ]
  },
  {
   "cell_type": "markdown",
   "metadata": {},
   "source": [
    "## 5) Hypothesis test result"
   ]
  },
  {
   "cell_type": "markdown",
   "metadata": {},
   "source": [
    "## If we consider alfa=0.05, then p value is smaller than 0.05, we can reject the null hyphothesis and conclude that the weight of chick fed by soybean has significant difference with the weight of chick fed by sunflower. "
   ]
  }
 ],
 "metadata": {
  "kernelspec": {
   "display_name": "Python 2",
   "language": "python",
   "name": "python2"
  },
  "language_info": {
   "codemirror_mode": {
    "name": "ipython",
    "version": 2
   },
   "file_extension": ".py",
   "mimetype": "text/x-python",
   "name": "python",
   "nbconvert_exporter": "python",
   "pygments_lexer": "ipython2",
   "version": "2.7.13"
  }
 },
 "nbformat": 4,
 "nbformat_minor": 2
}
