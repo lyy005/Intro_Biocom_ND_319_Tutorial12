{
 "cells": [
  {
   "cell_type": "markdown",
   "metadata": {},
   "source": [
    "# Exercise 12 problem 2\n",
    "\n",
    "Regular experesions are a powerful tool to select only the text string you want.\n",
    "\n",
    "Follow along on this exercise ***due the day after thanksgiving :(***  for three useful scenarios. "
   ]
  },
  {
   "cell_type": "markdown",
   "metadata": {},
   "source": [
    "### Load the library"
   ]
  },
  {
   "cell_type": "code",
   "execution_count": 35,
   "metadata": {
    "collapsed": true
   },
   "outputs": [],
   "source": [
    "import re"
   ]
  },
  {
   "cell_type": "markdown",
   "metadata": {},
   "source": [
    "## 2-1 selecting times with regex\n",
    "times after noon but before midnight in military times (12:01 to 23:59)"
   ]
  },
  {
   "cell_type": "code",
   "execution_count": 36,
   "metadata": {
    "collapsed": true
   },
   "outputs": [],
   "source": [
    "# the regular expression\n",
    "a = r'(([1][3-9]|[2][0-3]):[0-5][0-9])|(12:[0-5][1-9])' "
   ]
  },
  {
   "cell_type": "markdown",
   "metadata": {},
   "source": [
    "Our regular expression captures times by breaking down the military time into selectable portions.\n",
    "We first select the hour digits with an expression \"[1][3-9]|[2][0-3]\". This experession captures hours 13-19 or hours 20-23. We then select the \":\" and then  minutes 00-59 with \"[0-5][0-9]\". Finally, because we did not want to select noon we have to create an additional or statement that says select everying from 12:01 to 12:59 we do this with: \"12:[0-5][1-9]\".\n",
    "\n",
    "Let's see this in action. "
   ]
  },
  {
   "cell_type": "code",
   "execution_count": 37,
   "metadata": {},
   "outputs": [
    {
     "name": "stdout",
     "output_type": "stream",
     "text": [
      "['12:01', '13:50', '15:10', '17:20', '20:20', '22:22', '23:00', '23:59']\n"
     ]
    }
   ],
   "source": [
    "# create an example list, notice there are times we don't want to select\n",
    "times = [\"1:00\",\"2:40\",\"4:50\",\"10:50\",\"11:59\",\"12:00\",\"12:01\", \"13:50\", \"15:10\", \"17:20\", \"20:20\", \"22:22\",\n",
    "         \"23:00\", \"23:59\", \"24:00\"]\n",
    "\n",
    "# example\n",
    "select_times = re.compile(a)\n",
    "time_result = filter(select_times.match, times)\n",
    "print str(time_result) "
   ]
  },
  {
   "cell_type": "markdown",
   "metadata": {},
   "source": [
    "## 2-2 matching abbreviated species names (G. species) with regex"
   ]
  },
  {
   "cell_type": "code",
   "execution_count": null,
   "metadata": {
    "collapsed": true
   },
   "outputs": [],
   "source": [
    "# the regular expression\n",
    "b = r'[A-Z]\\.\\s[a-z]+'"
   ]
  },
  {
   "cell_type": "markdown",
   "metadata": {},
   "source": [
    "This regular expression captures  only strings containing the abbreviated Genus (G.) with \"[A-Z]\\.\" It then caputres strings containing a space followed by a lowercase species name of any length with this \"\\s[a-z]+\". \n",
    "\n",
    "Let's check out the example below!"
   ]
  },
  {
   "cell_type": "code",
   "execution_count": 39,
   "metadata": {},
   "outputs": [
    {
     "name": "stdout",
     "output_type": "stream",
     "text": [
      "['H. sapiens', 'M. pecosella', 'R. pomonella', 'T. urkey', 'R. elaxing', 'M. stellela']\n"
     ]
    }
   ],
   "source": [
    "# create an example list, notice there are things we don't want to select\n",
    "species = [\"H. sapiens\", \"turkey\", \"t. rot\", \"thanksgiving\", \"holiday\", \"time off\", \"M. pecosella\", \"R. pomonella\",\n",
    "           \"Homo. sapiens\", \"T. Urkey\", \"T. urkey\", \"R. elaxing\", \"stuffing\", \"Pumpkin pie\", \"M. stellela\"]\n",
    "\n",
    "# example\n",
    "select_species = re.compile(b)\n",
    "species_result = filter(select_species.match, species)\n",
    "print str(species_result)"
   ]
  },
  {
   "cell_type": "markdown",
   "metadata": {},
   "source": [
    "## 2-3 matching social security numbers (xxx-xx-xxxx) with regex"
   ]
  },
  {
   "cell_type": "code",
   "execution_count": 41,
   "metadata": {
    "collapsed": true
   },
   "outputs": [],
   "source": [
    "# the regular expression \n",
    "c = r'[0-9]{3}-[0-9]{2}-[0-9]{4}'"
   ]
  },
  {
   "cell_type": "markdown",
   "metadata": {},
   "source": [
    "Here in this last example, we see that regex is useful for matching the exact format of social security numbers. \n",
    "\"[0-9]{3}-[0-9]{2}-[0-9]{4}\" matches 3 of any number, a dash, 2 of any number, a dash, and finally 4 of any number.\n",
    "\n",
    "\n",
    "This code is useful if you ever want to steal social security numbers from a large dataframe! Follow alog in the example below!"
   ]
  },
  {
   "cell_type": "code",
   "execution_count": 42,
   "metadata": {},
   "outputs": [
    {
     "name": "stdout",
     "output_type": "stream",
     "text": [
      "['321-33-5543', '232-31-5436']\n"
     ]
    }
   ],
   "source": [
    "# create an example list\n",
    "social = [\"1234567\", \"1234345\", \"123-34353-346\", \"321-33-5543\", \"234-432-5453\", \"321-34-454\", \"232-31-5436\", \"Turkey\", \"232-2a-4323\"]\n",
    "\n",
    "# example\n",
    "select_social = re.compile(c)\n",
    "social_result = filter(select_social.match, social)\n",
    "print str(social_result)"
   ]
  }
 ],
 "metadata": {
  "kernelspec": {
   "display_name": "Python 2",
   "language": "python",
   "name": "python2"
  },
  "language_info": {
   "codemirror_mode": {
    "name": "ipython",
    "version": 2
   },
   "file_extension": ".py",
   "mimetype": "text/x-python",
   "name": "python",
   "nbconvert_exporter": "python",
   "pygments_lexer": "ipython2",
   "version": "2.7.13"
  }
 },
 "nbformat": 4,
 "nbformat_minor": 2
}
