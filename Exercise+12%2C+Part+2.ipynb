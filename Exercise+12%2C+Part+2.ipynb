{
 "cells": [
  {
   "cell_type": "markdown",
   "metadata": {},
   "source": [
    "Exercise 12, Part 2:\n",
    "\n",
    "Exercise 12, Part 2 consists of three portions, with each part requiring a regular expression that matches information of a certain type. This file will provide answers to the three prompts, along with explanations for why the regular expression exclusively matches desired strings and excludes others."
   ]
  },
  {
   "cell_type": "code",
   "execution_count": null,
   "metadata": {
    "collapsed": true
   },
   "outputs": [],
   "source": [
    "# Regular expression 1: Times after noon, but before midnight when reported in military format:\n",
    "\n",
    "import re\n",
    "\n",
    "^([1][2-9]|2[0-3]):?([0-5]\\d)$\n",
    "    \n",
    "# Match: 19:15\n",
    "\n",
    "# Non-match 1: 11:15\n",
    "\n",
    "# Non-match 2: 24:00\n",
    "\n",
    "# Non-match 3: 35:65"
   ]
  },
  {
   "cell_type": "markdown",
   "metadata": {},
   "source": [
    "Explanation for solution to Part One:\n",
    "\n",
    "The ^ character indicates the start of the string, while the ( character indicates where to begin capturing the group. The [1] indicates that the first character must be a 1, followed by any number between 2 and 9. This portion of the regular expression captures times from noon to 7 PM, otherwise known as 12-19:00 hours. The | operates as an or, which allows the first character to alternatively be a 2. [0-3] allows for the second character to be a 0,1,2,3 - this captures the remaining times to be captured, namely 8 PM to 11:59 PM.\n",
    "\n",
    "The :? allows for an optional colon; some times are reported with the colon, whereas others may not use a colon when reporting time. (e.g. 19:00 vs. 1900).\n",
    "\n",
    "The [0-5] portion ensures that times fall between 0 and 59 minutes, along with the \\d, which represents any digit. This portion could have alternatively been written as [0-9].\n",
    "\n",
    "The ) character indicates the end of the captured group, and the $ indicates the end of the string. \n",
    "\n"
   ]
  },
  {
   "cell_type": "code",
   "execution_count": null,
   "metadata": {
    "collapsed": true
   },
   "outputs": [],
   "source": [
    "# Regular expression 2: Genus species names expressed in the format G. species (e.g. H. sapien)\n",
    "\n",
    "import re \n",
    "\n",
    "^([A-Z]\\.\\s[a-z]{1,21})$\n",
    "\n",
    "# Match: H. sapiens\n",
    "\n",
    "# Non-match 1: Homo sapiens\n",
    "\n",
    "# Non-match 2: m. musculus"
   ]
  },
  {
   "cell_type": "markdown",
   "metadata": {},
   "source": [
    "Explanation for solution to Part Two:\n",
    "    \n",
    "Again, the ^ character indicates the start of the string, while the ( character indicates where to begin capturing the group. The [A-Z] portion of the regular expression will accept input of any capital letter while excluding any input that is in the lowercase (i.e. [a-z]). Since a period must follow the capitalized letter of the genus name, a \\. is added after the genus name. A space is introduced as indicated as desired by the prompt by adding \\s.\n",
    "\n",
    "The longest species name is 21 characters long, so the regular expression should accept the full set of lowercase letters of length 1 to 21. This is accomplished through [a-z]{1,21}. The ) character indicates the end of the captured group, and the $ indicates the end of the string. "
   ]
  },
  {
   "cell_type": "code",
   "execution_count": null,
   "metadata": {
    "collapsed": true
   },
   "outputs": [],
   "source": [
    "# Regular expression 3: Social Security numbers (e.g. 389-05-4771)\n",
    "\n",
    "import re\n",
    "\n",
    "^([\\d]{3}[-][\\d]{2}[-][\\d]{4})$\n",
    "\n",
    "# Match: 022-57-9213\n",
    "\n",
    "# Non-match 1: 0225-7-92-13\n",
    "\n",
    "# Non-match 2: A0B-12-3456"
   ]
  },
  {
   "cell_type": "markdown",
   "metadata": {},
   "source": [
    "Explanation for solution to Part Three: \n",
    "\n",
    "Based upon the example, Social Security numbers obey the format AAA-BB-CCCC. This can be captured rather easily using regular expressions.\n",
    "\n",
    "Like the regular expression for part one and two, the ^ will indicates the start of the string; the ( character indicates where to begin capturing the group. The [\\d]{3} will capture any sequence of three digits. The [-] requires a dash separating the first three numbers from the next two numbers, which are denoted as [\\d]{2}. The last portion consists of any four digit pattern, which can be written as [\\d]{4}. The ) character indicates the end of the captured group, and the $ indicates the end of the string. "
   ]
  }
 ],
 "metadata": {
  "kernelspec": {
   "display_name": "Python 3",
   "language": "python",
   "name": "python3"
  },
  "language_info": {
   "codemirror_mode": {
    "name": "ipython",
    "version": 3
   },
   "file_extension": ".py",
   "mimetype": "text/x-python",
   "name": "python",
   "nbconvert_exporter": "python",
   "pygments_lexer": "ipython3",
   "version": "3.6.2"
  }
 },
 "nbformat": 4,
 "nbformat_minor": 2
}
