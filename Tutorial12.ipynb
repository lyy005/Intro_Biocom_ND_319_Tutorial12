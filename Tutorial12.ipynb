{
 "cells": [
  {
   "cell_type": "markdown",
   "metadata": {},
   "source": [
    "# Tutorial 12\n",
    "## A How-to Approach of Maximum Likelihood and Regular Expressions"
   ]
  },
  {
   "cell_type": "code",
   "execution_count": 2,
   "metadata": {
    "collapsed": true
   },
   "outputs": [],
   "source": [
    "import pandas as pd\n",
    "import numpy as np\n",
    "import os\n",
    "from scipy.optimize import minimize\n",
    "from scipy.stats import norm\n",
    "import scipy.stats\n",
    "\n",
    "os.chdir('/Users/andrewguinness/Google Drive/ND/Fall 17/Intro to Biocomputing/Intro_Biocom_ND_319_Tutorial12')"
   ]
  },
  {
   "cell_type": "markdown",
   "metadata": {},
   "source": [
    "Let's begin by importing all of the packages we will need in a manner conducive to their use, and set our working directory to the directory containing our data. "
   ]
  },
  {
   "cell_type": "code",
   "execution_count": 6,
   "metadata": {
    "collapsed": true
   },
   "outputs": [],
   "source": [
    "chickwts = pd.read_csv(\"chickwts.txt\")\n",
    "\n",
    "chickwts = chickwts[(chickwts.feed == 'soybean') | (chickwts.feed == 'sunflower')]\n",
    "\n",
    "chickwts = chickwts.replace('soybean', 0)\n",
    "chickwts = chickwts.replace('sunflower',1)"
   ]
  },
  {
   "cell_type": "markdown",
   "metadata": {},
   "source": [
    "Now we want to read in our data and save it as an argument. \n",
    "\n",
    "\n",
    "Thereafter, we want to subset our data so that we can answer the question we're asking **statistically**. So, let's grab the chick weights **ONLY** for those fed soybean and sunflower diets. (Read the | bar as \"or\"). \n",
    "\n",
    "Now, let's treat soybean like our intercept of the linear model, b0 by setting it to zero. \n",
    "\n",
    "What this does is it takes the linear model: y = b0 + b1 * x and changes it to y = b0 (because x = 0). \n",
    "\n",
    "This will become clearer later. "
   ]
  },
  {
   "cell_type": "code",
   "execution_count": 7,
   "metadata": {},
   "outputs": [
    {
     "name": "stdout",
     "output_type": "stream",
     "text": [
      "Optimization terminated successfully.\n",
      "         Current function value: 138.469162\n",
      "         Iterations: 200\n",
      "         Function evaluations: 363\n",
      "[ 246.42855057   82.48813575   49.73948886]\n"
     ]
    },
    {
     "data": {
      "text/plain": [
       "Ttest_indResult(statistic=array([-4.05020659,        -inf]), pvalue=array([ 0.00046409,  0.        ]))"
      ]
     },
     "execution_count": 7,
     "metadata": {},
     "output_type": "execute_result"
    }
   ],
   "source": [
    "def nllike(p,obs):\n",
    "    B0=p[0]\n",
    "    B1=p[1]\n",
    "    sigma=p[2]\n",
    "    expected=B0+B1*obs.feed\n",
    "    nll=-1*norm(expected,sigma).logpdf(obs.weight).sum()\n",
    "    return nll\n",
    "\n",
    "initialguess = np.array([1,1,1])\n",
    "\n",
    "fit = minimize(nllike, initialguess, method=\"Nelder-Mead\", options={'disp': True}, args=chickwts)\n",
    "\n",
    "print(fit.x)\n",
    "\n",
    "scipy.stats.ttest_ind(chickwts[(chickwts.feed == 0)], chickwts[(chickwts.feed == 1)])"
   ]
  },
  {
   "cell_type": "markdown",
   "metadata": {},
   "source": [
    "Here we define the normal log likelihood function, which takes three parameter (*p*) values, which is our initialguess, and our observations (*obs*). \n",
    "\n",
    "So, how do we interpet this? \n",
    "\n",
    "You'll see from the fit (which optimizes the values to predict their LOWEST log likelihood (i.e. highest likelihood)) that b0 gives you some value and b1 gives you a positive additive value. That is to say, on average the chicks fed sunflower weigh b1 more than soybean chicks. \n",
    "\n",
    "We can confirm these results with a T-test, indicating the two populations are discrete. "
   ]
  },
  {
   "cell_type": "markdown",
   "metadata": {},
   "source": [
    "   ## Pattern matching"
   ]
  },
  {
   "cell_type": "markdown",
   "metadata": {},
   "source": [
    "Here, I've synthesized some data on which we'll be doing three separate pattern matching steps, so many different types of data are available in the same file. Let's go ahead and read this in and take a look. "
   ]
  },
  {
   "cell_type": "code",
   "execution_count": 12,
   "metadata": {},
   "outputs": [
    {
     "name": "stdout",
     "output_type": "stream",
     "text": [
      "\"14:56\"\n",
      "\"01:53\"\n",
      "\"02:25\"\n",
      "\"17:13\"\n",
      "\"04:24\"\n",
      "\"03:12\"\n",
      "\"11:45\"\n",
      "\"19:06\"\n",
      "\"16:02\"\n",
      "\"07:42\"\n",
      "\"09:16\"\n",
      "\"06:36\"\n",
      "\"10:31\"\n",
      "\"21:43\"\n",
      "\"20:46\"\n",
      "\"718-50-9401\"\n",
      "\"419-75-1706\"\n",
      "\"945-53-6985\"\n",
      "\"911-50-1000\"\n",
      "\"478-68-7481\"\n",
      "\"342-13-1221\"\n",
      "\"438-77-5635\"\n",
      "\"470-74-6952\"\n",
      "\"672-42-1738\"\n",
      "\"161-65-6811\"\n",
      "\"H. sapiens\"\n",
      "\"C. pipiens\"\n",
      "\"H. cecropia\"\n",
      "\"E. coli\"\n",
      "\"R. pomonella\"\n",
      "\n"
     ]
    }
   ],
   "source": [
    "import re\n",
    "\n",
    "textfile = open('pattern.txt', 'r')\n",
    "filetext = textfile.read()\n",
    "textfile.close()\n",
    "\n",
    "print filetext"
   ]
  },
  {
   "cell_type": "markdown",
   "metadata": {},
   "source": [
    "Alright, so now we want to pull out three separate things: \n",
    "\n",
    "1) Just the SSNs\n",
    "\n",
    "2) Times after noon (12:00)\n",
    "\n",
    "3) The species names\n",
    "\n",
    "Let's do these each one at a time. "
   ]
  },
  {
   "cell_type": "code",
   "execution_count": 14,
   "metadata": {},
   "outputs": [
    {
     "name": "stdout",
     "output_type": "stream",
     "text": [
      "['718-50-9401', '419-75-1706', '945-53-6985', '911-50-1000', '478-68-7481', '342-13-1221', '438-77-5635', '470-74-6952', '672-42-1738', '161-65-6811']\n"
     ]
    }
   ],
   "source": [
    "## Social Security Numbers\n",
    "SSNmatch = re.compile('\\d{3}-\\d{2}-\\d{4}')\n",
    "\n",
    "SSNs = re.findall(SSNmatch, filetext)\n",
    "print SSNs"
   ]
  },
  {
   "cell_type": "markdown",
   "metadata": {
    "collapsed": true
   },
   "source": [
    "So, this gives us a list of all 10 social security numbers in the data set by matching a pattern of three digits (\\d), a hyphen, two digits, a hyphen, and four digits. \n",
    "\n",
    "Truthfully, we don't need to match them this way. Since the only data structure in this file that contains hyphens (or for that matter even contains digits longer than two) are the social security numbers, we can be a little bit lazier *in this specific case*. "
   ]
  },
  {
   "cell_type": "code",
   "execution_count": 15,
   "metadata": {},
   "outputs": [
    {
     "name": "stdout",
     "output_type": "stream",
     "text": [
      "['718-50-9401\"', '419-75-1706\"', '945-53-6985\"', '911-50-1000\"', '478-68-7481\"', '342-13-1221\"', '438-77-5635\"', '470-74-6952\"', '672-42-1738\"', '161-65-6811\"']\n"
     ]
    }
   ],
   "source": [
    "## Social Security Numbers the lazy way\n",
    "\n",
    "SSNmatch = re.compile('\\d{3}.+')\n",
    "\n",
    "SSNs = re.findall(SSNmatch, filetext)\n",
    "print SSNs"
   ]
  },
  {
   "cell_type": "markdown",
   "metadata": {},
   "source": [
    "In this case, we match anything that has three digits in a row and all of the other characters that come after it (**.** means anything, **+** takes it *ad infinitum*)"
   ]
  },
  {
   "cell_type": "markdown",
   "metadata": {},
   "source": [
    "Let's skip challenge two for right now. We'll get back to it. We can be super lazy with the abbreviated binomial names also. They're the ONLY data structure here that has any word characters. "
   ]
  },
  {
   "cell_type": "code",
   "execution_count": 21,
   "metadata": {},
   "outputs": [
    {
     "name": "stdout",
     "output_type": "stream",
     "text": [
      "['H. sapiens\"', 'C. pipiens\"', 'H. cecropia\"', 'E. coli\"', 'R. pomonella\"']\n"
     ]
    }
   ],
   "source": [
    "## Binomial names \n",
    "\n",
    "speciesmatch = re.compile('[A-Za-z].+')\n",
    "\n",
    "spp = re.findall(speciesmatch, filetext)\n",
    "print spp"
   ]
  },
  {
   "cell_type": "markdown",
   "metadata": {},
   "source": [
    "The final option asks us to pull out times in a 24-hr format **after noon**. This is slightly more challenging because we can't just match all digits. So, we want to be able to pull out times like 14:56 and 21:43, but ignore times like 01:53. \n",
    "\n",
    "This sounds convoluted at first, but it's really quite simple. \n",
    "\n",
    "We want to match times that start with one digit of either 1 or 2, but not zero and are followed by a digit 2 or greater if they start with 1. Then there's a colon and some other stuff. The colon is a key here because it lets us ignore the social security numbers. "
   ]
  },
  {
   "cell_type": "code",
   "execution_count": 31,
   "metadata": {},
   "outputs": [
    {
     "name": "stdout",
     "output_type": "stream",
     "text": [
      "['14:56\"', '17:13\"', '19:06\"', '16:02\"', '21:43\"', '20:46\"']\n"
     ]
    }
   ],
   "source": [
    "## Times after 12:00\n",
    "timesmatch = re.compile('1{1}[2-9]{1}:.+|2{1}[0-9]{1}:.+')\n",
    "\n",
    "afternoon = re.findall(timesmatch, filetext)\n",
    "print afternoon"
   ]
  },
  {
   "cell_type": "markdown",
   "metadata": {},
   "source": [
    "So, let's translate this to English. \n",
    "\n",
    "We're looking for something that has a 1 once and then {1} digit 2 or greater, a colon, and anything after that. \n",
    "\n",
    "OR (|) \n",
    "\n",
    "We're looking for something that starts with a 2 and has any digit and a colon (etc.) thereafter. "
   ]
  },
  {
   "cell_type": "code",
   "execution_count": null,
   "metadata": {
    "collapsed": true
   },
   "outputs": [],
   "source": []
  }
 ],
 "metadata": {
  "kernelspec": {
   "display_name": "Python 2",
   "language": "python",
   "name": "python2"
  },
  "language_info": {
   "codemirror_mode": {
    "name": "ipython",
    "version": 2
   },
   "file_extension": ".py",
   "mimetype": "text/x-python",
   "name": "python",
   "nbconvert_exporter": "python",
   "pygments_lexer": "ipython2",
   "version": "2.7.13"
  }
 },
 "nbformat": 4,
 "nbformat_minor": 2
}
