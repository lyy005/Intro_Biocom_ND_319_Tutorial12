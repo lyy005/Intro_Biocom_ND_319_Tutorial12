{
 "cells": [
  {
   "cell_type": "markdown",
   "metadata": {},
   "source": [
    "# General description of \"chickwts.txt\" dataset.\n",
    "\n",
    "\n",
    "\n",
    "### Import packages and data"
   ]
  },
  {
   "cell_type": "code",
   "execution_count": 20,
   "metadata": {},
   "outputs": [],
   "source": [
    "import pandas as pd\n",
    "import numpy as np\n",
    "from scipy.stats import chi2\n",
    "from scipy.optimize import minimize\n",
    "from scipy.stats import norm\n",
    "from plotnine import *\n",
    "\n",
    "chickens=pd.read_table(\"chickwts.txt\", delimiter=\",\")\n"
   ]
  },
  {
   "cell_type": "markdown",
   "metadata": {},
   "source": [
    "### 1. Calculate mean weight of chickens based on feed source\n",
    "\n",
    "#### create an empty dictionary for \"means\". Fill by using a for loop to loop through each type of chicken feed, and add the mean weight of chickens for each feed to the dictionary entry for that feed."
   ]
  },
  {
   "cell_type": "code",
   "execution_count": 21,
   "metadata": {},
   "outputs": [
    {
     "data": {
      "text/html": [
       "<div>\n",
       "<style>\n",
       "    .dataframe thead tr:only-child th {\n",
       "        text-align: right;\n",
       "    }\n",
       "\n",
       "    .dataframe thead th {\n",
       "        text-align: left;\n",
       "    }\n",
       "\n",
       "    .dataframe tbody tr th {\n",
       "        vertical-align: top;\n",
       "    }\n",
       "</style>\n",
       "<table border=\"1\" class=\"dataframe\">\n",
       "  <thead>\n",
       "    <tr style=\"text-align: right;\">\n",
       "      <th></th>\n",
       "      <th>casein</th>\n",
       "      <th>horsebean</th>\n",
       "      <th>linseed</th>\n",
       "      <th>meatmeal</th>\n",
       "      <th>soybean</th>\n",
       "      <th>sunflower</th>\n",
       "    </tr>\n",
       "  </thead>\n",
       "  <tbody>\n",
       "    <tr>\n",
       "      <th>0</th>\n",
       "      <td>323.583333</td>\n",
       "      <td>160.2</td>\n",
       "      <td>218.75</td>\n",
       "      <td>276.909091</td>\n",
       "      <td>246.428571</td>\n",
       "      <td>328.916667</td>\n",
       "    </tr>\n",
       "  </tbody>\n",
       "</table>\n",
       "</div>"
      ],
      "text/plain": [
       "       casein  horsebean  linseed    meatmeal     soybean   sunflower\n",
       "0  323.583333      160.2   218.75  276.909091  246.428571  328.916667"
      ]
     },
     "execution_count": 21,
     "metadata": {},
     "output_type": "execute_result"
    }
   ],
   "source": [
    "means=dict()\n",
    "\n",
    "for i in np.unique(chickens.feed):\n",
    "    means[i]=np.mean(chickens[chickens.feed == i][[\"weight\"]])[0]\n",
    "    \n",
    "means_df=pd.DataFrame(means, index =[0])\n",
    "means_df"
   ]
  },
  {
   "cell_type": "markdown",
   "metadata": {},
   "source": [
    "### 2. Generate a plot summarizing chicken weight data\n",
    "\n",
    "#### use ggplot2 to create a boxplot of \"chickwts.txt\" data, plotting chicken **weight** on the y axis, grouped by chicken **feed**"
   ]
  },
  {
   "cell_type": "code",
   "execution_count": 22,
   "metadata": {},
   "outputs": [
    {
     "data": {
      "image/png": "[encoded data removed]",
      "text/plain": [
       "<matplotlib.figure.Figure at 0x7f33e3faefd0>"
      ]
     },
     "metadata": {},
     "output_type": "display_data"
    },
    {
     "data": {
      "text/plain": [
       "<ggplot: (8741302840413)>"
      ]
     },
     "execution_count": 22,
     "metadata": {},
     "output_type": "execute_result"
    }
   ],
   "source": [
    "ggplot(chickens, aes(x=\"feed\",y=\"weight\")) + geom_boxplot() + theme_classic()"
   ]
  },
  {
   "cell_type": "markdown",
   "metadata": {},
   "source": [
    "### 3. Null and alternative hyptheses for the difference in **chick weight** when fed **soybean feed** vs **sunflower feed**\n",
    "\n",
    "#### *Null hypothesis: mean(sunflower)-mean(soybean) = 0*\n",
    "\n",
    "#### *Alternative hypothesis: mean(sunflower)-mean(soybean) =/= 0*"
   ]
  },
  {
   "cell_type": "markdown",
   "metadata": {},
   "source": [
    "### 4. Test Null and alternative hypotheses using chi-2 likelihood test\n",
    "\n",
    "#### Create a data \"sun_soy_chickens\" containing only data of interest (chickens fed on soybean or sunflower feed). Add a column \"Factor\" to this new data frame, containing a 1 for chickens fed with sunflower feed, and a 0 for chickens fed with soybean feed."
   ]
  },
  {
   "cell_type": "code",
   "execution_count": 23,
   "metadata": {},
   "outputs": [
    {
     "name": "stderr",
     "output_type": "stream",
     "text": [
      "/home/tb/anaconda2/lib/python2.7/site-packages/ipykernel_launcher.py:3: SettingWithCopyWarning: \n",
      "A value is trying to be set on a copy of a slice from a DataFrame.\n",
      "Try using .loc[row_indexer,col_indexer] = value instead\n",
      "\n",
      "See the caveats in the documentation: http://pandas.pydata.org/pandas-docs/stable/indexing.html#indexing-view-versus-copy\n",
      "  This is separate from the ipykernel package so we can avoid doing imports until\n"
     ]
    },
    {
     "data": {
      "text/html": [
       "<div>\n",
       "<style>\n",
       "    .dataframe thead tr:only-child th {\n",
       "        text-align: right;\n",
       "    }\n",
       "\n",
       "    .dataframe thead th {\n",
       "        text-align: left;\n",
       "    }\n",
       "\n",
       "    .dataframe tbody tr th {\n",
       "        vertical-align: top;\n",
       "    }\n",
       "</style>\n",
       "<table border=\"1\" class=\"dataframe\">\n",
       "  <thead>\n",
       "    <tr style=\"text-align: right;\">\n",
       "      <th></th>\n",
       "      <th>weight</th>\n",
       "      <th>feed</th>\n",
       "      <th>Factor</th>\n",
       "    </tr>\n",
       "  </thead>\n",
       "  <tbody>\n",
       "    <tr>\n",
       "      <th>22</th>\n",
       "      <td>243</td>\n",
       "      <td>soybean</td>\n",
       "      <td>0</td>\n",
       "    </tr>\n",
       "    <tr>\n",
       "      <th>23</th>\n",
       "      <td>230</td>\n",
       "      <td>soybean</td>\n",
       "      <td>0</td>\n",
       "    </tr>\n",
       "    <tr>\n",
       "      <th>24</th>\n",
       "      <td>248</td>\n",
       "      <td>soybean</td>\n",
       "      <td>0</td>\n",
       "    </tr>\n",
       "    <tr>\n",
       "      <th>25</th>\n",
       "      <td>327</td>\n",
       "      <td>soybean</td>\n",
       "      <td>0</td>\n",
       "    </tr>\n",
       "    <tr>\n",
       "      <th>26</th>\n",
       "      <td>329</td>\n",
       "      <td>soybean</td>\n",
       "      <td>0</td>\n",
       "    </tr>\n",
       "    <tr>\n",
       "      <th>27</th>\n",
       "      <td>250</td>\n",
       "      <td>soybean</td>\n",
       "      <td>0</td>\n",
       "    </tr>\n",
       "    <tr>\n",
       "      <th>28</th>\n",
       "      <td>193</td>\n",
       "      <td>soybean</td>\n",
       "      <td>0</td>\n",
       "    </tr>\n",
       "    <tr>\n",
       "      <th>29</th>\n",
       "      <td>271</td>\n",
       "      <td>soybean</td>\n",
       "      <td>0</td>\n",
       "    </tr>\n",
       "    <tr>\n",
       "      <th>30</th>\n",
       "      <td>316</td>\n",
       "      <td>soybean</td>\n",
       "      <td>0</td>\n",
       "    </tr>\n",
       "    <tr>\n",
       "      <th>31</th>\n",
       "      <td>267</td>\n",
       "      <td>soybean</td>\n",
       "      <td>0</td>\n",
       "    </tr>\n",
       "    <tr>\n",
       "      <th>32</th>\n",
       "      <td>199</td>\n",
       "      <td>soybean</td>\n",
       "      <td>0</td>\n",
       "    </tr>\n",
       "    <tr>\n",
       "      <th>33</th>\n",
       "      <td>171</td>\n",
       "      <td>soybean</td>\n",
       "      <td>0</td>\n",
       "    </tr>\n",
       "    <tr>\n",
       "      <th>34</th>\n",
       "      <td>158</td>\n",
       "      <td>soybean</td>\n",
       "      <td>0</td>\n",
       "    </tr>\n",
       "    <tr>\n",
       "      <th>35</th>\n",
       "      <td>248</td>\n",
       "      <td>soybean</td>\n",
       "      <td>0</td>\n",
       "    </tr>\n",
       "    <tr>\n",
       "      <th>36</th>\n",
       "      <td>423</td>\n",
       "      <td>sunflower</td>\n",
       "      <td>1</td>\n",
       "    </tr>\n",
       "    <tr>\n",
       "      <th>37</th>\n",
       "      <td>340</td>\n",
       "      <td>sunflower</td>\n",
       "      <td>1</td>\n",
       "    </tr>\n",
       "    <tr>\n",
       "      <th>38</th>\n",
       "      <td>392</td>\n",
       "      <td>sunflower</td>\n",
       "      <td>1</td>\n",
       "    </tr>\n",
       "    <tr>\n",
       "      <th>39</th>\n",
       "      <td>339</td>\n",
       "      <td>sunflower</td>\n",
       "      <td>1</td>\n",
       "    </tr>\n",
       "    <tr>\n",
       "      <th>40</th>\n",
       "      <td>341</td>\n",
       "      <td>sunflower</td>\n",
       "      <td>1</td>\n",
       "    </tr>\n",
       "    <tr>\n",
       "      <th>41</th>\n",
       "      <td>226</td>\n",
       "      <td>sunflower</td>\n",
       "      <td>1</td>\n",
       "    </tr>\n",
       "    <tr>\n",
       "      <th>42</th>\n",
       "      <td>320</td>\n",
       "      <td>sunflower</td>\n",
       "      <td>1</td>\n",
       "    </tr>\n",
       "    <tr>\n",
       "      <th>43</th>\n",
       "      <td>295</td>\n",
       "      <td>sunflower</td>\n",
       "      <td>1</td>\n",
       "    </tr>\n",
       "    <tr>\n",
       "      <th>44</th>\n",
       "      <td>334</td>\n",
       "      <td>sunflower</td>\n",
       "      <td>1</td>\n",
       "    </tr>\n",
       "    <tr>\n",
       "      <th>45</th>\n",
       "      <td>322</td>\n",
       "      <td>sunflower</td>\n",
       "      <td>1</td>\n",
       "    </tr>\n",
       "    <tr>\n",
       "      <th>46</th>\n",
       "      <td>297</td>\n",
       "      <td>sunflower</td>\n",
       "      <td>1</td>\n",
       "    </tr>\n",
       "    <tr>\n",
       "      <th>47</th>\n",
       "      <td>318</td>\n",
       "      <td>sunflower</td>\n",
       "      <td>1</td>\n",
       "    </tr>\n",
       "  </tbody>\n",
       "</table>\n",
       "</div>"
      ],
      "text/plain": [
       "    weight       feed  Factor\n",
       "22     243    soybean       0\n",
       "23     230    soybean       0\n",
       "24     248    soybean       0\n",
       "25     327    soybean       0\n",
       "26     329    soybean       0\n",
       "27     250    soybean       0\n",
       "28     193    soybean       0\n",
       "29     271    soybean       0\n",
       "30     316    soybean       0\n",
       "31     267    soybean       0\n",
       "32     199    soybean       0\n",
       "33     171    soybean       0\n",
       "34     158    soybean       0\n",
       "35     248    soybean       0\n",
       "36     423  sunflower       1\n",
       "37     340  sunflower       1\n",
       "38     392  sunflower       1\n",
       "39     339  sunflower       1\n",
       "40     341  sunflower       1\n",
       "41     226  sunflower       1\n",
       "42     320  sunflower       1\n",
       "43     295  sunflower       1\n",
       "44     334  sunflower       1\n",
       "45     322  sunflower       1\n",
       "46     297  sunflower       1\n",
       "47     318  sunflower       1"
      ]
     },
     "execution_count": 23,
     "metadata": {},
     "output_type": "execute_result"
    }
   ],
   "source": [
    "sun_soy_chickens=chickens[(chickens.feed == \"sunflower\") | (chickens.feed == \"soybean\")]\n",
    "\n",
    "sun_soy_chickens[\"Factor\"]=0\n",
    "for i in range(0, len(sun_soy_chickens.feed)):\n",
    "    if sun_soy_chickens.feed.iloc[i] == \"sunflower\":\n",
    "        sun_soy_chickens.iloc[i,2]=1\n",
    "    else:\n",
    "        sun_soy_chickens.iloc[i,2]=0\n",
    "        \n",
    "sun_soy_chickens"
   ]
  },
  {
   "cell_type": "markdown",
   "metadata": {},
   "source": [
    "#### Define null and alternative hypothesis functions"
   ]
  },
  {
   "cell_type": "code",
   "execution_count": 24,
   "metadata": {
    "collapsed": true
   },
   "outputs": [],
   "source": [
    "def nllalt(p,obs):\n",
    "    B0=p[0]\n",
    "    sigma=p[1]\n",
    "    B1=p[2]\n",
    "    \n",
    "    expected=B0+B1*obs.Factor\n",
    "    nll=-1*norm(expected,sigma).logpdf(obs.weight).sum()\n",
    "    return nll\n",
    "    \n",
    "    \n",
    "def nllnull(p,obs):\n",
    "    B0=p[0]\n",
    "    sigma=p[1]\n",
    "    \n",
    "    expected=B0\n",
    "    nll=-1*norm(expected,sigma).logpdf(obs.weight).sum()\n",
    "    return nll"
   ]
  },
  {
   "cell_type": "markdown",
   "metadata": {},
   "source": [
    "#### Make guess, use minimize function to find optimal coefficients for alternative and null hypothesis functions. T test to determine the significance of the factor (presence of sunflower seed) in determining the weight of chickens in this study"
   ]
  },
  {
   "cell_type": "code",
   "execution_count": 25,
   "metadata": {},
   "outputs": [
    {
     "name": "stdout",
     "output_type": "stream",
     "text": [
      "Optimization terminated successfully.\n",
      "         Current function value: 138.469162\n",
      "         Iterations: 200\n",
      "         Function evaluations: 363\n",
      "Optimization terminated successfully.\n",
      "         Current function value: 145.240592\n",
      "         Iterations: 138\n",
      "         Function evaluations: 261\n"
     ]
    },
    {
     "data": {
      "text/plain": [
       "0.00023317672869682671"
      ]
     },
     "execution_count": 25,
     "metadata": {},
     "output_type": "execute_result"
    }
   ],
   "source": [
    "guess=[1,1,1]\n",
    "\n",
    "fit_alt=minimize(nllalt, guess, method=\"Nelder-Mead\", options={'disp': True},args=sun_soy_chickens)\n",
    "fit_null=minimize(nllnull, guess, method=\"Nelder-Mead\", options={'disp': True},args=sun_soy_chickens)\n",
    "\n",
    "D=2*(fit_null.fun-fit_alt.fun)\n",
    "1-chi2.cdf(x=D, df=1)"
   ]
  },
  {
   "cell_type": "markdown",
   "metadata": {},
   "source": [
    "### Interpreting the result of the likelihood ratio test\n",
    "\n",
    "#### Since the P-value is \\<0.05, there is a significant difference in chicken weights between chickens fed on sunflower and soybean feed."
   ]
  }
 ],
 "metadata": {
  "kernelspec": {
   "display_name": "Python 2",
   "language": "python",
   "name": "python2"
  },
  "language_info": {
   "codemirror_mode": {
    "name": "ipython",
    "version": 2
   },
   "file_extension": ".py",
   "mimetype": "text/x-python",
   "name": "python",
   "nbconvert_exporter": "python",
   "pygments_lexer": "ipython2",
   "version": "2.7.13"
  }
 },
 "nbformat": 4,
 "nbformat_minor": 2
}
