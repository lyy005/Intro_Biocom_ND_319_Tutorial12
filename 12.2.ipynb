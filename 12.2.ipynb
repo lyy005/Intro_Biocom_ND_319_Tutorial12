{
 "cells": [
  {
   "cell_type": "markdown",
   "metadata": {},
   "source": [
    "# Using Regular Expressions to search for matching information\n",
    "* Regular expressions can be useful to seek out imformation that matches your data set's information\n",
    "* For example, you could type a site name 4 different ways, but want to search for all of those data points instead of searching by each different style of input\n",
    "* Follow along in this exercise to see 3 examples of utilizing Regular Expressions. The first step is to import any necessary packages"
   ]
  },
  {
   "cell_type": "code",
   "execution_count": 2,
   "metadata": {
    "collapsed": true
   },
   "outputs": [],
   "source": [
    "import re"
   ]
  },
  {
   "cell_type": "markdown",
   "metadata": {},
   "source": [
    "# Exercise 1: Time\n",
    "* Times after noon but before midnight in military time (12:01 - 23:59) "
   ]
  },
  {
   "cell_type": "code",
   "execution_count": 3,
   "metadata": {},
   "outputs": [
    {
     "name": "stdout",
     "output_type": "stream",
     "text": [
      "('12:01', '23:30')\n"
     ]
    }
   ],
   "source": [
    "time= \"12:01\", \"09:25\",\"23:30\", \"11:59\"\n",
    "reg1=re.compile(\"(([1][3-9]|[2][0-3]):[0-5][0-9])|(12:[0-5][1-9])\")\n",
    "print(filter(reg1.match,time))\n"
   ]
  },
  {
   "cell_type": "markdown",
   "metadata": {},
   "source": [
    "In this example, we used a regex to filter out any times that do not match our target. (([1][2-9]|[2][0-3]):[0-5][0-9]) matched anything from 13:00 to 23:59 and our third section of (12:[0-5][1-9]) matched anything from 12:01 to 12:59."
   ]
  },
  {
   "cell_type": "markdown",
   "metadata": {},
   "source": [
    "## Exercise 2: Genus species names\n",
    "* Searching for names in the style of H. sapien"
   ]
  },
  {
   "cell_type": "code",
   "execution_count": 4,
   "metadata": {},
   "outputs": [
    {
     "name": "stdout",
     "output_type": "stream",
     "text": [
      "('M. tuberculosis', 'E. coli')\n"
     ]
    }
   ],
   "source": [
    "names= \"M. tuberculosis\", \"e. Coli\", \"E. coli\", \"Staph aureus\"\n",
    "reg2=re.compile(\"[A-Z]\\\\.\\\\s[a-z]+\")\n",
    "print(filter(reg2.match,names))"
   ]
  },
  {
   "cell_type": "markdown",
   "metadata": {},
   "source": [
    "In this example we used the expression [A-Z]\\\\.\\\\s[a-z]+ to indicate we wanted terms with only 1 capital letter, followed by  period, a space, and then one or more undercase letters(indicated by the plus sign at the end of the [a-z]"
   ]
  },
  {
   "cell_type": "markdown",
   "metadata": {},
   "source": [
    "## Exercise 3: Social Security Numbers\n",
    "* Searching for numbers in the correct format xxx-xx-xxxx"
   ]
  },
  {
   "cell_type": "code",
   "execution_count": 5,
   "metadata": {},
   "outputs": [
    {
     "name": "stdout",
     "output_type": "stream",
     "text": [
      "('123-12-1234', '999-88-7777')\n"
     ]
    }
   ],
   "source": [
    "numbers= \"123-12-1234\", \"Bob\", \"234-234-234\", \"999-88-7777\", \"Using this to find SS numbers to commit fraud is illegal\"\n",
    "reg3=re.compile(\"[0-9]{3}-[0-9]{2}-[0-9]{4}\")\n",
    "print(filter(reg3.match,numbers))"
   ]
  },
  {
   "cell_type": "markdown",
   "metadata": {},
   "source": [
    "In this last example, we used the expression [0-9]{3}-[0-9]{2}-[0-9]{4} to filter out anything that didn't follow the xxx-xx-xxxx format, including the dashes. Only numbers were allowed to fill the \"x\" spaces in the example.\n",
    "\n",
    "With these 3 examples, you should have a firmer grasp on the benefits of using Regular Expressions to find terms in a series of strings. "
   ]
  },
  {
   "cell_type": "code",
   "execution_count": null,
   "metadata": {
    "collapsed": true
   },
   "outputs": [],
   "source": []
  }
 ],
 "metadata": {
  "kernelspec": {
   "display_name": "Python 2",
   "language": "python",
   "name": "python2"
  },
  "language_info": {
   "codemirror_mode": {
    "name": "ipython",
    "version": 2
   },
   "file_extension": ".py",
   "mimetype": "text/x-python",
   "name": "python",
   "nbconvert_exporter": "python",
   "pygments_lexer": "ipython2",
   "version": "2.7.13"
  }
 },
 "nbformat": 4,
 "nbformat_minor": 2
}
